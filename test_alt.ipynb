{
 "cells": [
  {
   "cell_type": "code",
   "execution_count": 2,
   "metadata": {},
   "outputs": [
    {
     "data": {
      "text/html": [
       "<div>\n",
       "<style scoped>\n",
       "    .dataframe tbody tr th:only-of-type {\n",
       "        vertical-align: middle;\n",
       "    }\n",
       "\n",
       "    .dataframe tbody tr th {\n",
       "        vertical-align: top;\n",
       "    }\n",
       "\n",
       "    .dataframe thead th {\n",
       "        text-align: right;\n",
       "    }\n",
       "</style>\n",
       "<table border=\"1\" class=\"dataframe\">\n",
       "  <thead>\n",
       "    <tr style=\"text-align: right;\">\n",
       "      <th></th>\n",
       "      <th>year</th>\n",
       "      <th>Number_of_Incidents</th>\n",
       "      <th>percent_arrest</th>\n",
       "      <th>primary_type</th>\n",
       "    </tr>\n",
       "  </thead>\n",
       "  <tbody>\n",
       "    <tr>\n",
       "      <th>0</th>\n",
       "      <td>2016</td>\n",
       "      <td>12</td>\n",
       "      <td>0.145721</td>\n",
       "      <td>d</td>\n",
       "    </tr>\n",
       "    <tr>\n",
       "      <th>1</th>\n",
       "      <td>2011</td>\n",
       "      <td>13</td>\n",
       "      <td>0.189964</td>\n",
       "      <td>a</td>\n",
       "    </tr>\n",
       "    <tr>\n",
       "      <th>2</th>\n",
       "      <td>2006</td>\n",
       "      <td>19</td>\n",
       "      <td>0.097100</td>\n",
       "      <td>b</td>\n",
       "    </tr>\n",
       "    <tr>\n",
       "      <th>3</th>\n",
       "      <td>2003</td>\n",
       "      <td>5</td>\n",
       "      <td>0.339787</td>\n",
       "      <td>a</td>\n",
       "    </tr>\n",
       "    <tr>\n",
       "      <th>4</th>\n",
       "      <td>2001</td>\n",
       "      <td>0</td>\n",
       "      <td>0.638429</td>\n",
       "      <td>e</td>\n",
       "    </tr>\n",
       "    <tr>\n",
       "      <th>...</th>\n",
       "      <td>...</td>\n",
       "      <td>...</td>\n",
       "      <td>...</td>\n",
       "      <td>...</td>\n",
       "    </tr>\n",
       "    <tr>\n",
       "      <th>95</th>\n",
       "      <td>2001</td>\n",
       "      <td>7</td>\n",
       "      <td>0.567942</td>\n",
       "      <td>a</td>\n",
       "    </tr>\n",
       "    <tr>\n",
       "      <th>96</th>\n",
       "      <td>2007</td>\n",
       "      <td>3</td>\n",
       "      <td>0.052330</td>\n",
       "      <td>a</td>\n",
       "    </tr>\n",
       "    <tr>\n",
       "      <th>97</th>\n",
       "      <td>2011</td>\n",
       "      <td>15</td>\n",
       "      <td>0.442327</td>\n",
       "      <td>c</td>\n",
       "    </tr>\n",
       "    <tr>\n",
       "      <th>98</th>\n",
       "      <td>2010</td>\n",
       "      <td>17</td>\n",
       "      <td>0.868985</td>\n",
       "      <td>d</td>\n",
       "    </tr>\n",
       "    <tr>\n",
       "      <th>99</th>\n",
       "      <td>2010</td>\n",
       "      <td>18</td>\n",
       "      <td>0.840695</td>\n",
       "      <td>b</td>\n",
       "    </tr>\n",
       "  </tbody>\n",
       "</table>\n",
       "<p>100 rows × 4 columns</p>\n",
       "</div>"
      ],
      "text/plain": [
       "    year  Number_of_Incidents  percent_arrest primary_type\n",
       "0   2016                   12        0.145721            d\n",
       "1   2011                   13        0.189964            a\n",
       "2   2006                   19        0.097100            b\n",
       "3   2003                    5        0.339787            a\n",
       "4   2001                    0        0.638429            e\n",
       "..   ...                  ...             ...          ...\n",
       "95  2001                    7        0.567942            a\n",
       "96  2007                    3        0.052330            a\n",
       "97  2011                   15        0.442327            c\n",
       "98  2010                   17        0.868985            d\n",
       "99  2010                   18        0.840695            b\n",
       "\n",
       "[100 rows x 4 columns]"
      ]
     },
     "execution_count": 2,
     "metadata": {},
     "output_type": "execute_result"
    }
   ],
   "source": [
    "import altair as alt\n",
    "import pandas as pd\n",
    "import numpy as np\n",
    "q13a = pd.DataFrame({\n",
    "    'year': np.random.randint(2000, 2018, 100),\n",
    "    'Number_of_Incidents': np.random.randint(0, 20, 100),\n",
    "    'percent_arrest': np.random.rand(100),\n",
    "    'primary_type': np.random.choice(['a', 'b', 'c', 'd', 'e'], 100)\n",
    "})\n",
    "\n",
    "q13a"
   ]
  },
  {
   "cell_type": "code",
   "execution_count": 3,
   "metadata": {},
   "outputs": [
    {
     "data": {
      "text/html": [
       "\n",
       "<div id=\"altair-viz-6fe3bee06cc04c90b8321b231b1a4218\"></div>\n",
       "<script type=\"text/javascript\">\n",
       "  var VEGA_DEBUG = (typeof VEGA_DEBUG == \"undefined\") ? {} : VEGA_DEBUG;\n",
       "  (function(spec, embedOpt){\n",
       "    let outputDiv = document.currentScript.previousElementSibling;\n",
       "    if (outputDiv.id !== \"altair-viz-6fe3bee06cc04c90b8321b231b1a4218\") {\n",
       "      outputDiv = document.getElementById(\"altair-viz-6fe3bee06cc04c90b8321b231b1a4218\");\n",
       "    }\n",
       "    const paths = {\n",
       "      \"vega\": \"https://cdn.jsdelivr.net/npm//vega@5?noext\",\n",
       "      \"vega-lib\": \"https://cdn.jsdelivr.net/npm//vega-lib?noext\",\n",
       "      \"vega-lite\": \"https://cdn.jsdelivr.net/npm//vega-lite@4.17.0?noext\",\n",
       "      \"vega-embed\": \"https://cdn.jsdelivr.net/npm//vega-embed@6?noext\",\n",
       "    };\n",
       "\n",
       "    function maybeLoadScript(lib, version) {\n",
       "      var key = `${lib.replace(\"-\", \"\")}_version`;\n",
       "      return (VEGA_DEBUG[key] == version) ?\n",
       "        Promise.resolve(paths[lib]) :\n",
       "        new Promise(function(resolve, reject) {\n",
       "          var s = document.createElement('script');\n",
       "          document.getElementsByTagName(\"head\")[0].appendChild(s);\n",
       "          s.async = true;\n",
       "          s.onload = () => {\n",
       "            VEGA_DEBUG[key] = version;\n",
       "            return resolve(paths[lib]);\n",
       "          };\n",
       "          s.onerror = () => reject(`Error loading script: ${paths[lib]}`);\n",
       "          s.src = paths[lib];\n",
       "        });\n",
       "    }\n",
       "\n",
       "    function showError(err) {\n",
       "      outputDiv.innerHTML = `<div class=\"error\" style=\"color:red;\">${err}</div>`;\n",
       "      throw err;\n",
       "    }\n",
       "\n",
       "    function displayChart(vegaEmbed) {\n",
       "      vegaEmbed(outputDiv, spec, embedOpt)\n",
       "        .catch(err => showError(`Javascript Error: ${err.message}<br>This usually means there's a typo in your chart specification. See the javascript console for the full traceback.`));\n",
       "    }\n",
       "\n",
       "    if(typeof define === \"function\" && define.amd) {\n",
       "      requirejs.config({paths});\n",
       "      require([\"vega-embed\"], displayChart, err => showError(`Error loading script: ${err.message}`));\n",
       "    } else {\n",
       "      maybeLoadScript(\"vega\", \"5\")\n",
       "        .then(() => maybeLoadScript(\"vega-lite\", \"4.17.0\"))\n",
       "        .then(() => maybeLoadScript(\"vega-embed\", \"6\"))\n",
       "        .catch(showError)\n",
       "        .then(() => displayChart(vegaEmbed));\n",
       "    }\n",
       "  })({\"config\": {\"view\": {\"continuousWidth\": 400, \"continuousHeight\": 300, \"stroke\": \"transparent\"}}, \"data\": {\"name\": \"data-974b1fc545dbc6bf828e2b644a54c3eb\"}, \"mark\": \"bar\", \"encoding\": {\"color\": {\"field\": \"primary_type\", \"type\": \"nominal\"}, \"column\": {\"field\": \"year\", \"type\": \"quantitative\"}, \"tooltip\": [{\"field\": \"year\", \"type\": \"quantitative\"}], \"x\": {\"field\": \"primary_type\", \"scale\": {}, \"title\": null, \"type\": \"nominal\"}, \"y\": {\"aggregate\": \"sum\", \"field\": \"Number_of_Incidents\", \"title\": \"sum(Number_of_Incidents)\", \"type\": \"quantitative\"}}, \"$schema\": \"https://vega.github.io/schema/vega-lite/v4.17.0.json\", \"datasets\": {\"data-974b1fc545dbc6bf828e2b644a54c3eb\": [{\"year\": 2016, \"Number_of_Incidents\": 12, \"percent_arrest\": 0.14572127703479743, \"primary_type\": \"d\"}, {\"year\": 2011, \"Number_of_Incidents\": 13, \"percent_arrest\": 0.18996420990968288, \"primary_type\": \"a\"}, {\"year\": 2006, \"Number_of_Incidents\": 19, \"percent_arrest\": 0.09710002419565167, \"primary_type\": \"b\"}, {\"year\": 2003, \"Number_of_Incidents\": 5, \"percent_arrest\": 0.33978664673459913, \"primary_type\": \"a\"}, {\"year\": 2001, \"Number_of_Incidents\": 0, \"percent_arrest\": 0.6384287137572676, \"primary_type\": \"e\"}, {\"year\": 2013, \"Number_of_Incidents\": 16, \"percent_arrest\": 0.7768365078137212, \"primary_type\": \"e\"}, {\"year\": 2010, \"Number_of_Incidents\": 9, \"percent_arrest\": 0.7054202125706914, \"primary_type\": \"e\"}, {\"year\": 2009, \"Number_of_Incidents\": 6, \"percent_arrest\": 0.4526246735619568, \"primary_type\": \"b\"}, {\"year\": 2009, \"Number_of_Incidents\": 9, \"percent_arrest\": 0.653501596670264, \"primary_type\": \"a\"}, {\"year\": 2001, \"Number_of_Incidents\": 10, \"percent_arrest\": 0.6582755427274539, \"primary_type\": \"b\"}, {\"year\": 2000, \"Number_of_Incidents\": 4, \"percent_arrest\": 0.7034667698383772, \"primary_type\": \"d\"}, {\"year\": 2014, \"Number_of_Incidents\": 10, \"percent_arrest\": 0.3052722584042584, \"primary_type\": \"c\"}, {\"year\": 2013, \"Number_of_Incidents\": 2, \"percent_arrest\": 0.6086282707290412, \"primary_type\": \"e\"}, {\"year\": 2015, \"Number_of_Incidents\": 14, \"percent_arrest\": 0.36253209721552626, \"primary_type\": \"a\"}, {\"year\": 2014, \"Number_of_Incidents\": 16, \"percent_arrest\": 0.5287203786830431, \"primary_type\": \"d\"}, {\"year\": 2006, \"Number_of_Incidents\": 16, \"percent_arrest\": 0.15983999949339023, \"primary_type\": \"e\"}, {\"year\": 2006, \"Number_of_Incidents\": 6, \"percent_arrest\": 0.7209243296826243, \"primary_type\": \"e\"}, {\"year\": 2017, \"Number_of_Incidents\": 9, \"percent_arrest\": 0.30786893589298303, \"primary_type\": \"c\"}, {\"year\": 2012, \"Number_of_Incidents\": 18, \"percent_arrest\": 0.35829436258471625, \"primary_type\": \"c\"}, {\"year\": 2009, \"Number_of_Incidents\": 4, \"percent_arrest\": 0.23940778963438758, \"primary_type\": \"e\"}, {\"year\": 2010, \"Number_of_Incidents\": 17, \"percent_arrest\": 0.42736097976369847, \"primary_type\": \"a\"}, {\"year\": 2004, \"Number_of_Incidents\": 17, \"percent_arrest\": 0.5984401493240075, \"primary_type\": \"a\"}, {\"year\": 2014, \"Number_of_Incidents\": 0, \"percent_arrest\": 0.753398991932082, \"primary_type\": \"e\"}, {\"year\": 2016, \"Number_of_Incidents\": 15, \"percent_arrest\": 0.6758318701933758, \"primary_type\": \"b\"}, {\"year\": 2003, \"Number_of_Incidents\": 6, \"percent_arrest\": 0.43858416066640926, \"primary_type\": \"d\"}, {\"year\": 2002, \"Number_of_Incidents\": 18, \"percent_arrest\": 0.3192079492458576, \"primary_type\": \"e\"}, {\"year\": 2010, \"Number_of_Incidents\": 5, \"percent_arrest\": 0.7935923740364919, \"primary_type\": \"b\"}, {\"year\": 2013, \"Number_of_Incidents\": 14, \"percent_arrest\": 0.04512577217113667, \"primary_type\": \"b\"}, {\"year\": 2012, \"Number_of_Incidents\": 7, \"percent_arrest\": 0.505907572944639, \"primary_type\": \"a\"}, {\"year\": 2001, \"Number_of_Incidents\": 7, \"percent_arrest\": 0.2915190804703405, \"primary_type\": \"e\"}, {\"year\": 2003, \"Number_of_Incidents\": 16, \"percent_arrest\": 0.5289039516324188, \"primary_type\": \"c\"}, {\"year\": 2002, \"Number_of_Incidents\": 3, \"percent_arrest\": 0.5792933244250247, \"primary_type\": \"c\"}, {\"year\": 2016, \"Number_of_Incidents\": 0, \"percent_arrest\": 0.224701750405767, \"primary_type\": \"b\"}, {\"year\": 2011, \"Number_of_Incidents\": 5, \"percent_arrest\": 0.4093984311016282, \"primary_type\": \"a\"}, {\"year\": 2013, \"Number_of_Incidents\": 9, \"percent_arrest\": 0.6321959341548508, \"primary_type\": \"e\"}, {\"year\": 2012, \"Number_of_Incidents\": 18, \"percent_arrest\": 0.8206698257747913, \"primary_type\": \"e\"}, {\"year\": 2007, \"Number_of_Incidents\": 8, \"percent_arrest\": 0.008240275698616073, \"primary_type\": \"d\"}, {\"year\": 2005, \"Number_of_Incidents\": 17, \"percent_arrest\": 0.5184926370583919, \"primary_type\": \"d\"}, {\"year\": 2013, \"Number_of_Incidents\": 7, \"percent_arrest\": 0.11331215596730271, \"primary_type\": \"d\"}, {\"year\": 2015, \"Number_of_Incidents\": 10, \"percent_arrest\": 0.9147719275344347, \"primary_type\": \"d\"}, {\"year\": 2006, \"Number_of_Incidents\": 14, \"percent_arrest\": 0.11505510214129977, \"primary_type\": \"a\"}, {\"year\": 2002, \"Number_of_Incidents\": 13, \"percent_arrest\": 0.21096499236887445, \"primary_type\": \"a\"}, {\"year\": 2002, \"Number_of_Incidents\": 17, \"percent_arrest\": 0.2177131546779879, \"primary_type\": \"b\"}, {\"year\": 2010, \"Number_of_Incidents\": 0, \"percent_arrest\": 0.006643555776822185, \"primary_type\": \"e\"}, {\"year\": 2015, \"Number_of_Incidents\": 13, \"percent_arrest\": 0.5916879212703263, \"primary_type\": \"a\"}, {\"year\": 2016, \"Number_of_Incidents\": 8, \"percent_arrest\": 0.7591107746129672, \"primary_type\": \"b\"}, {\"year\": 2004, \"Number_of_Incidents\": 12, \"percent_arrest\": 0.4600858806746352, \"primary_type\": \"e\"}, {\"year\": 2001, \"Number_of_Incidents\": 9, \"percent_arrest\": 0.8943346850532036, \"primary_type\": \"c\"}, {\"year\": 2002, \"Number_of_Incidents\": 14, \"percent_arrest\": 0.4287608796355502, \"primary_type\": \"d\"}, {\"year\": 2002, \"Number_of_Incidents\": 8, \"percent_arrest\": 0.40184582749233644, \"primary_type\": \"b\"}, {\"year\": 2017, \"Number_of_Incidents\": 0, \"percent_arrest\": 0.6988285850475783, \"primary_type\": \"a\"}, {\"year\": 2017, \"Number_of_Incidents\": 5, \"percent_arrest\": 0.6618600923875678, \"primary_type\": \"e\"}, {\"year\": 2015, \"Number_of_Incidents\": 16, \"percent_arrest\": 0.6346028252369365, \"primary_type\": \"a\"}, {\"year\": 2014, \"Number_of_Incidents\": 5, \"percent_arrest\": 0.27678015503962705, \"primary_type\": \"d\"}, {\"year\": 2013, \"Number_of_Incidents\": 3, \"percent_arrest\": 0.8737843778080647, \"primary_type\": \"c\"}, {\"year\": 2014, \"Number_of_Incidents\": 0, \"percent_arrest\": 0.18787162309223915, \"primary_type\": \"e\"}, {\"year\": 2013, \"Number_of_Incidents\": 11, \"percent_arrest\": 0.5804050346832115, \"primary_type\": \"c\"}, {\"year\": 2013, \"Number_of_Incidents\": 0, \"percent_arrest\": 0.9908410293750091, \"primary_type\": \"c\"}, {\"year\": 2001, \"Number_of_Incidents\": 14, \"percent_arrest\": 0.10965950331607621, \"primary_type\": \"d\"}, {\"year\": 2012, \"Number_of_Incidents\": 10, \"percent_arrest\": 0.29235927628297576, \"primary_type\": \"e\"}, {\"year\": 2014, \"Number_of_Incidents\": 17, \"percent_arrest\": 0.3498390168299743, \"primary_type\": \"d\"}, {\"year\": 2011, \"Number_of_Incidents\": 16, \"percent_arrest\": 0.6982496785260821, \"primary_type\": \"d\"}, {\"year\": 2013, \"Number_of_Incidents\": 2, \"percent_arrest\": 0.36141544535482584, \"primary_type\": \"d\"}, {\"year\": 2001, \"Number_of_Incidents\": 17, \"percent_arrest\": 0.9952745934605073, \"primary_type\": \"e\"}, {\"year\": 2017, \"Number_of_Incidents\": 14, \"percent_arrest\": 0.8958451278748222, \"primary_type\": \"c\"}, {\"year\": 2010, \"Number_of_Incidents\": 7, \"percent_arrest\": 0.021669964486400017, \"primary_type\": \"d\"}, {\"year\": 2001, \"Number_of_Incidents\": 4, \"percent_arrest\": 0.12433710810955545, \"primary_type\": \"c\"}, {\"year\": 2005, \"Number_of_Incidents\": 2, \"percent_arrest\": 0.792264616175944, \"primary_type\": \"a\"}, {\"year\": 2012, \"Number_of_Incidents\": 18, \"percent_arrest\": 0.1144829389605897, \"primary_type\": \"e\"}, {\"year\": 2008, \"Number_of_Incidents\": 15, \"percent_arrest\": 0.6577129032843392, \"primary_type\": \"a\"}, {\"year\": 2008, \"Number_of_Incidents\": 7, \"percent_arrest\": 0.9707291095661063, \"primary_type\": \"c\"}, {\"year\": 2017, \"Number_of_Incidents\": 13, \"percent_arrest\": 0.7059729238276448, \"primary_type\": \"b\"}, {\"year\": 2004, \"Number_of_Incidents\": 12, \"percent_arrest\": 0.26241308335733293, \"primary_type\": \"d\"}, {\"year\": 2009, \"Number_of_Incidents\": 4, \"percent_arrest\": 0.4487633420623761, \"primary_type\": \"b\"}, {\"year\": 2015, \"Number_of_Incidents\": 10, \"percent_arrest\": 0.4406363525878172, \"primary_type\": \"a\"}, {\"year\": 2003, \"Number_of_Incidents\": 2, \"percent_arrest\": 0.10905700162323717, \"primary_type\": \"d\"}, {\"year\": 2013, \"Number_of_Incidents\": 14, \"percent_arrest\": 0.5384377279811963, \"primary_type\": \"b\"}, {\"year\": 2013, \"Number_of_Incidents\": 13, \"percent_arrest\": 0.6222053002204139, \"primary_type\": \"d\"}, {\"year\": 2016, \"Number_of_Incidents\": 13, \"percent_arrest\": 0.5509608018132724, \"primary_type\": \"c\"}, {\"year\": 2013, \"Number_of_Incidents\": 11, \"percent_arrest\": 0.4440030556816127, \"primary_type\": \"a\"}, {\"year\": 2011, \"Number_of_Incidents\": 10, \"percent_arrest\": 0.6838155869495633, \"primary_type\": \"d\"}, {\"year\": 2009, \"Number_of_Incidents\": 1, \"percent_arrest\": 0.6270333745582796, \"primary_type\": \"c\"}, {\"year\": 2011, \"Number_of_Incidents\": 9, \"percent_arrest\": 0.4072406768303708, \"primary_type\": \"b\"}, {\"year\": 2007, \"Number_of_Incidents\": 1, \"percent_arrest\": 0.22925503679142734, \"primary_type\": \"a\"}, {\"year\": 2008, \"Number_of_Incidents\": 12, \"percent_arrest\": 0.45048037614266767, \"primary_type\": \"d\"}, {\"year\": 2009, \"Number_of_Incidents\": 15, \"percent_arrest\": 0.9161780677437045, \"primary_type\": \"a\"}, {\"year\": 2003, \"Number_of_Incidents\": 11, \"percent_arrest\": 0.4220050357431353, \"primary_type\": \"d\"}, {\"year\": 2003, \"Number_of_Incidents\": 14, \"percent_arrest\": 0.09195162096009613, \"primary_type\": \"b\"}, {\"year\": 2007, \"Number_of_Incidents\": 4, \"percent_arrest\": 0.5819595838440633, \"primary_type\": \"d\"}, {\"year\": 2002, \"Number_of_Incidents\": 18, \"percent_arrest\": 0.365144466991151, \"primary_type\": \"c\"}, {\"year\": 2005, \"Number_of_Incidents\": 1, \"percent_arrest\": 0.13748037134543445, \"primary_type\": \"c\"}, {\"year\": 2011, \"Number_of_Incidents\": 18, \"percent_arrest\": 0.9150216537040137, \"primary_type\": \"e\"}, {\"year\": 2007, \"Number_of_Incidents\": 15, \"percent_arrest\": 0.4269221187742901, \"primary_type\": \"b\"}, {\"year\": 2014, \"Number_of_Incidents\": 17, \"percent_arrest\": 0.6624725062296207, \"primary_type\": \"e\"}, {\"year\": 2011, \"Number_of_Incidents\": 7, \"percent_arrest\": 0.43855388774787185, \"primary_type\": \"e\"}, {\"year\": 2001, \"Number_of_Incidents\": 7, \"percent_arrest\": 0.5679417292095252, \"primary_type\": \"a\"}, {\"year\": 2007, \"Number_of_Incidents\": 3, \"percent_arrest\": 0.0523296601594323, \"primary_type\": \"a\"}, {\"year\": 2011, \"Number_of_Incidents\": 15, \"percent_arrest\": 0.4423271350937321, \"primary_type\": \"c\"}, {\"year\": 2010, \"Number_of_Incidents\": 17, \"percent_arrest\": 0.868984647272327, \"primary_type\": \"d\"}, {\"year\": 2010, \"Number_of_Incidents\": 18, \"percent_arrest\": 0.8406945973427555, \"primary_type\": \"b\"}]}}, {\"mode\": \"vega-lite\"});\n",
       "</script>"
      ],
      "text/plain": [
       "alt.Chart(...)"
      ]
     },
     "execution_count": 3,
     "metadata": {},
     "output_type": "execute_result"
    }
   ],
   "source": [
    "alt.Chart(q13a).mark_bar().encode(\n",
    "    x=alt.X('primary_type', scale=alt.Scale(), title=None),\n",
    "    y=alt.Y('sum(Number_of_Incidents)', title='sum(Number_of_Incidents)'),\n",
    "    color='primary_type',\n",
    "    column='year',\n",
    "    tooltip=['year']\n",
    ").configure_view(\n",
    "    stroke='transparent'\n",
    ")"
   ]
  },
  {
   "cell_type": "code",
   "execution_count": 17,
   "metadata": {},
   "outputs": [
    {
     "data": {
      "text/html": [
       "<div>\n",
       "<style scoped>\n",
       "    .dataframe tbody tr th:only-of-type {\n",
       "        vertical-align: middle;\n",
       "    }\n",
       "\n",
       "    .dataframe tbody tr th {\n",
       "        vertical-align: top;\n",
       "    }\n",
       "\n",
       "    .dataframe thead th {\n",
       "        text-align: right;\n",
       "    }\n",
       "</style>\n",
       "<table border=\"1\" class=\"dataframe\">\n",
       "  <thead>\n",
       "    <tr style=\"text-align: right;\">\n",
       "      <th></th>\n",
       "      <th>terpakai</th>\n",
       "      <th>tersedia</th>\n",
       "    </tr>\n",
       "    <tr>\n",
       "      <th>tanggal</th>\n",
       "      <th></th>\n",
       "      <th></th>\n",
       "    </tr>\n",
       "  </thead>\n",
       "  <tbody>\n",
       "    <tr>\n",
       "      <th>2020-10-06 00:00:00</th>\n",
       "      <td>30</td>\n",
       "      <td>50</td>\n",
       "    </tr>\n",
       "  </tbody>\n",
       "</table>\n",
       "</div>"
      ],
      "text/plain": [
       "                     terpakai  tersedia\n",
       "tanggal                                \n",
       "2020-10-06 00:00:00        30        50"
      ]
     },
     "execution_count": 17,
     "metadata": {},
     "output_type": "execute_result"
    }
   ],
   "source": [
    "d1 = pd.DataFrame({\n",
    "    'tanggal': ['2020-10-06 00:00:00'],\n",
    "    'terpakai': [30],\n",
    "    'tersedia': [50]\n",
    "})\n",
    "d1 = d1.set_index('tanggal')\n",
    "d1"
   ]
  },
  {
   "cell_type": "code",
   "execution_count": 22,
   "metadata": {},
   "outputs": [],
   "source": [
    "d1 = d1.reset_index()"
   ]
  },
  {
   "cell_type": "code",
   "execution_count": 25,
   "metadata": {},
   "outputs": [
    {
     "data": {
      "text/plain": [
       "'2020-10-06 00:00:00'"
      ]
     },
     "execution_count": 25,
     "metadata": {},
     "output_type": "execute_result"
    }
   ],
   "source": [
    "d1.iloc[0]['tanggal']"
   ]
  },
  {
   "cell_type": "code",
   "execution_count": 28,
   "metadata": {},
   "outputs": [
    {
     "data": {
      "text/html": [
       "<div>\n",
       "<style scoped>\n",
       "    .dataframe tbody tr th:only-of-type {\n",
       "        vertical-align: middle;\n",
       "    }\n",
       "\n",
       "    .dataframe tbody tr th {\n",
       "        vertical-align: top;\n",
       "    }\n",
       "\n",
       "    .dataframe thead th {\n",
       "        text-align: right;\n",
       "    }\n",
       "</style>\n",
       "<table border=\"1\" class=\"dataframe\">\n",
       "  <thead>\n",
       "    <tr style=\"text-align: right;\">\n",
       "      <th></th>\n",
       "      <th>tanggal</th>\n",
       "      <th>jumlah</th>\n",
       "      <th>tipe</th>\n",
       "    </tr>\n",
       "  </thead>\n",
       "  <tbody>\n",
       "    <tr>\n",
       "      <th>0</th>\n",
       "      <td>2020-10-06 00:00:00</td>\n",
       "      <td>30</td>\n",
       "      <td>terpakai</td>\n",
       "    </tr>\n",
       "    <tr>\n",
       "      <th>1</th>\n",
       "      <td>2020-10-06 00:00:00</td>\n",
       "      <td>50</td>\n",
       "      <td>tersedia</td>\n",
       "    </tr>\n",
       "  </tbody>\n",
       "</table>\n",
       "</div>"
      ],
      "text/plain": [
       "               tanggal  jumlah      tipe\n",
       "0  2020-10-06 00:00:00      30  terpakai\n",
       "1  2020-10-06 00:00:00      50  tersedia"
      ]
     },
     "execution_count": 28,
     "metadata": {},
     "output_type": "execute_result"
    }
   ],
   "source": [
    "d2 = pd.DataFrame({\n",
    "    'tanggal': [d1.iloc[0]['tanggal'], d1.iloc[0]['tanggal']],\n",
    "    'jumlah': [d1.iloc[0]['terpakai'], d1.iloc[0]['tersedia']],\n",
    "    'tipe': ['terpakai','tersedia']\n",
    "})\n",
    "d2"
   ]
  },
  {
   "cell_type": "code",
   "execution_count": null,
   "metadata": {},
   "outputs": [],
   "source": [
    "alt.Chart(d2).mark_bar().encode(\n",
    "    x=alt.X('tipe', scale=alt.Scale(), title=None),\n",
    "    y=alt.Y('sum(jumlah)', title='sum(jumlah)'),\n",
    "    color='primary_type',\n",
    "    column='year',\n",
    "    tooltip=['year']\n",
    ").configure_view(\n",
    "    stroke='transparent'\n",
    ")"
   ]
  }
 ],
 "metadata": {
  "interpreter": {
   "hash": "2694f88939255068aba8bf3d3930fd4a643c6d990b7ed0cabb9ab13231b90518"
  },
  "kernelspec": {
   "display_name": "Python 3.9.2 ('venv': venv)",
   "language": "python",
   "name": "python3"
  },
  "language_info": {
   "codemirror_mode": {
    "name": "ipython",
    "version": 3
   },
   "file_extension": ".py",
   "mimetype": "text/x-python",
   "name": "python",
   "nbconvert_exporter": "python",
   "pygments_lexer": "ipython3",
   "version": "3.9.2"
  },
  "orig_nbformat": 4
 },
 "nbformat": 4,
 "nbformat_minor": 2
}
